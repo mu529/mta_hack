{
 "cells": [
  {
   "cell_type": "code",
   "execution_count": 39,
   "metadata": {
    "collapsed": true
   },
   "outputs": [],
   "source": [
    "import pandas as pd\n",
    "import numpy as np"
   ]
  },
  {
   "cell_type": "code",
   "execution_count": 40,
   "metadata": {
    "collapsed": false
   },
   "outputs": [
    {
     "name": "stderr",
     "output_type": "stream",
     "text": [
      "C:\\Anaconda3\\lib\\site-packages\\IPython\\core\\interactiveshell.py:2902: DtypeWarning: Columns (27,28,29,35) have mixed types. Specify dtype option on import or set low_memory=False.\n",
      "  interactivity=interactivity, compiler=compiler, result=result)\n",
      "C:\\Anaconda3\\lib\\site-packages\\IPython\\core\\interactiveshell.py:2902: DtypeWarning: Columns (107,108) have mixed types. Specify dtype option on import or set low_memory=False.\n",
      "  interactivity=interactivity, compiler=compiler, result=result)\n"
     ]
    }
   ],
   "source": [
    "lodes = pd.read_csv('ny_od_main_JT01_2013.csv')\n",
    "xwalk = pd.read_csv('ny_xwalk.csv')\n",
    "pums = pd.read_csv('ss14pny.csv')"
   ]
  },
  {
   "cell_type": "code",
   "execution_count": 41,
   "metadata": {
    "collapsed": true
   },
   "outputs": [],
   "source": [
    "lodes['h_cty'] = lodes.h_geocode // 10000000000\n",
    "lodes['w_cty'] = lodes.w_geocode // 10000000000\n",
    "si_lodes = lodes.query('h_cty==36085')"
   ]
  },
  {
   "cell_type": "code",
   "execution_count": 22,
   "metadata": {
    "collapsed": false
   },
   "outputs": [
    {
     "data": {
      "text/html": [
       "<div>\n",
       "<table border=\"1\" class=\"dataframe\">\n",
       "  <thead>\n",
       "    <tr style=\"text-align: right;\">\n",
       "      <th></th>\n",
       "      <th>tabblk2010</th>\n",
       "      <th>st</th>\n",
       "      <th>stusps</th>\n",
       "      <th>stname</th>\n",
       "      <th>cty</th>\n",
       "      <th>ctyname</th>\n",
       "      <th>trct</th>\n",
       "      <th>trctname</th>\n",
       "      <th>bgrp</th>\n",
       "      <th>bgrpname</th>\n",
       "      <th>...</th>\n",
       "      <th>tribname</th>\n",
       "      <th>tsub</th>\n",
       "      <th>tsubname</th>\n",
       "      <th>stanrc</th>\n",
       "      <th>stanrcname</th>\n",
       "      <th>mil</th>\n",
       "      <th>milname</th>\n",
       "      <th>stwib</th>\n",
       "      <th>stwibname</th>\n",
       "      <th>createdate</th>\n",
       "    </tr>\n",
       "  </thead>\n",
       "  <tbody>\n",
       "    <tr>\n",
       "      <th>0</th>\n",
       "      <td>360010001001000</td>\n",
       "      <td>36</td>\n",
       "      <td>NY</td>\n",
       "      <td>New York</td>\n",
       "      <td>36001</td>\n",
       "      <td>Albany County, NY</td>\n",
       "      <td>36001000100</td>\n",
       "      <td>1 (Albany, NY)</td>\n",
       "      <td>360010001001</td>\n",
       "      <td>1 (Tract 1, Albany, NY)</td>\n",
       "      <td>...</td>\n",
       "      <td>NaN</td>\n",
       "      <td>9999999</td>\n",
       "      <td>NaN</td>\n",
       "      <td>9999999</td>\n",
       "      <td>NaN</td>\n",
       "      <td>9999999999999999999999</td>\n",
       "      <td>NaN</td>\n",
       "      <td>36360051</td>\n",
       "      <td>Albany/Rensselaer/Schenectady LWIA</td>\n",
       "      <td>20150603</td>\n",
       "    </tr>\n",
       "    <tr>\n",
       "      <th>1</th>\n",
       "      <td>360010001001001</td>\n",
       "      <td>36</td>\n",
       "      <td>NY</td>\n",
       "      <td>New York</td>\n",
       "      <td>36001</td>\n",
       "      <td>Albany County, NY</td>\n",
       "      <td>36001000100</td>\n",
       "      <td>1 (Albany, NY)</td>\n",
       "      <td>360010001001</td>\n",
       "      <td>1 (Tract 1, Albany, NY)</td>\n",
       "      <td>...</td>\n",
       "      <td>NaN</td>\n",
       "      <td>9999999</td>\n",
       "      <td>NaN</td>\n",
       "      <td>9999999</td>\n",
       "      <td>NaN</td>\n",
       "      <td>9999999999999999999999</td>\n",
       "      <td>NaN</td>\n",
       "      <td>36360051</td>\n",
       "      <td>Albany/Rensselaer/Schenectady LWIA</td>\n",
       "      <td>20150603</td>\n",
       "    </tr>\n",
       "    <tr>\n",
       "      <th>2</th>\n",
       "      <td>360010001001002</td>\n",
       "      <td>36</td>\n",
       "      <td>NY</td>\n",
       "      <td>New York</td>\n",
       "      <td>36001</td>\n",
       "      <td>Albany County, NY</td>\n",
       "      <td>36001000100</td>\n",
       "      <td>1 (Albany, NY)</td>\n",
       "      <td>360010001001</td>\n",
       "      <td>1 (Tract 1, Albany, NY)</td>\n",
       "      <td>...</td>\n",
       "      <td>NaN</td>\n",
       "      <td>9999999</td>\n",
       "      <td>NaN</td>\n",
       "      <td>9999999</td>\n",
       "      <td>NaN</td>\n",
       "      <td>9999999999999999999999</td>\n",
       "      <td>NaN</td>\n",
       "      <td>36360051</td>\n",
       "      <td>Albany/Rensselaer/Schenectady LWIA</td>\n",
       "      <td>20150603</td>\n",
       "    </tr>\n",
       "    <tr>\n",
       "      <th>3</th>\n",
       "      <td>360010001001003</td>\n",
       "      <td>36</td>\n",
       "      <td>NY</td>\n",
       "      <td>New York</td>\n",
       "      <td>36001</td>\n",
       "      <td>Albany County, NY</td>\n",
       "      <td>36001000100</td>\n",
       "      <td>1 (Albany, NY)</td>\n",
       "      <td>360010001001</td>\n",
       "      <td>1 (Tract 1, Albany, NY)</td>\n",
       "      <td>...</td>\n",
       "      <td>NaN</td>\n",
       "      <td>9999999</td>\n",
       "      <td>NaN</td>\n",
       "      <td>9999999</td>\n",
       "      <td>NaN</td>\n",
       "      <td>9999999999999999999999</td>\n",
       "      <td>NaN</td>\n",
       "      <td>36360051</td>\n",
       "      <td>Albany/Rensselaer/Schenectady LWIA</td>\n",
       "      <td>20150603</td>\n",
       "    </tr>\n",
       "    <tr>\n",
       "      <th>4</th>\n",
       "      <td>360010001001004</td>\n",
       "      <td>36</td>\n",
       "      <td>NY</td>\n",
       "      <td>New York</td>\n",
       "      <td>36001</td>\n",
       "      <td>Albany County, NY</td>\n",
       "      <td>36001000100</td>\n",
       "      <td>1 (Albany, NY)</td>\n",
       "      <td>360010001001</td>\n",
       "      <td>1 (Tract 1, Albany, NY)</td>\n",
       "      <td>...</td>\n",
       "      <td>NaN</td>\n",
       "      <td>9999999</td>\n",
       "      <td>NaN</td>\n",
       "      <td>9999999</td>\n",
       "      <td>NaN</td>\n",
       "      <td>9999999999999999999999</td>\n",
       "      <td>NaN</td>\n",
       "      <td>36360051</td>\n",
       "      <td>Albany/Rensselaer/Schenectady LWIA</td>\n",
       "      <td>20150603</td>\n",
       "    </tr>\n",
       "  </tbody>\n",
       "</table>\n",
       "<p>5 rows × 39 columns</p>\n",
       "</div>"
      ],
      "text/plain": [
       "        tabblk2010  st stusps    stname    cty            ctyname  \\\n",
       "0  360010001001000  36     NY  New York  36001  Albany County, NY   \n",
       "1  360010001001001  36     NY  New York  36001  Albany County, NY   \n",
       "2  360010001001002  36     NY  New York  36001  Albany County, NY   \n",
       "3  360010001001003  36     NY  New York  36001  Albany County, NY   \n",
       "4  360010001001004  36     NY  New York  36001  Albany County, NY   \n",
       "\n",
       "          trct        trctname          bgrp                 bgrpname  \\\n",
       "0  36001000100  1 (Albany, NY)  360010001001  1 (Tract 1, Albany, NY)   \n",
       "1  36001000100  1 (Albany, NY)  360010001001  1 (Tract 1, Albany, NY)   \n",
       "2  36001000100  1 (Albany, NY)  360010001001  1 (Tract 1, Albany, NY)   \n",
       "3  36001000100  1 (Albany, NY)  360010001001  1 (Tract 1, Albany, NY)   \n",
       "4  36001000100  1 (Albany, NY)  360010001001  1 (Tract 1, Albany, NY)   \n",
       "\n",
       "     ...      tribname     tsub  tsubname   stanrc  stanrcname  \\\n",
       "0    ...           NaN  9999999       NaN  9999999         NaN   \n",
       "1    ...           NaN  9999999       NaN  9999999         NaN   \n",
       "2    ...           NaN  9999999       NaN  9999999         NaN   \n",
       "3    ...           NaN  9999999       NaN  9999999         NaN   \n",
       "4    ...           NaN  9999999       NaN  9999999         NaN   \n",
       "\n",
       "                      mil  milname     stwib  \\\n",
       "0  9999999999999999999999      NaN  36360051   \n",
       "1  9999999999999999999999      NaN  36360051   \n",
       "2  9999999999999999999999      NaN  36360051   \n",
       "3  9999999999999999999999      NaN  36360051   \n",
       "4  9999999999999999999999      NaN  36360051   \n",
       "\n",
       "                            stwibname createdate  \n",
       "0  Albany/Rensselaer/Schenectady LWIA   20150603  \n",
       "1  Albany/Rensselaer/Schenectady LWIA   20150603  \n",
       "2  Albany/Rensselaer/Schenectady LWIA   20150603  \n",
       "3  Albany/Rensselaer/Schenectady LWIA   20150603  \n",
       "4  Albany/Rensselaer/Schenectady LWIA   20150603  \n",
       "\n",
       "[5 rows x 39 columns]"
      ]
     },
     "execution_count": 22,
     "metadata": {},
     "output_type": "execute_result"
    }
   ],
   "source": [
    "xwalk.head()"
   ]
  },
  {
   "cell_type": "code",
   "execution_count": 42,
   "metadata": {
    "collapsed": false
   },
   "outputs": [
    {
     "data": {
      "text/plain": [
       "zcta\n",
       "11201    21967\n",
       "10314     9783\n",
       "10013     8063\n",
       "10305     7992\n",
       "10007     7679\n",
       "10306     4778\n",
       "10309     3892\n",
       "10001     3809\n",
       "10310     3452\n",
       "10304     3311\n",
       "10301     3116\n",
       "10036     2973\n",
       "10312     2873\n",
       "10004     2745\n",
       "10018     2672\n",
       "10017     2671\n",
       "10019     2655\n",
       "10016     2562\n",
       "10022     2328\n",
       "10005     2296\n",
       "10303     2207\n",
       "10003     1921\n",
       "11220     1908\n",
       "11219     1742\n",
       "10038     1720\n",
       "10011     1594\n",
       "11209     1560\n",
       "10010     1536\n",
       "10302     1461\n",
       "11101     1348\n",
       "         ...  \n",
       "12775        1\n",
       "13754        1\n",
       "12580        1\n",
       "12475        1\n",
       "10199        1\n",
       "12501        1\n",
       "12516        1\n",
       "12525        1\n",
       "14051        1\n",
       "14043        1\n",
       "14032        1\n",
       "11424        1\n",
       "12569        1\n",
       "12575        1\n",
       "12577        1\n",
       "12581        1\n",
       "13780        1\n",
       "13856        1\n",
       "12586        1\n",
       "12723        1\n",
       "12732        1\n",
       "13830        1\n",
       "12737        1\n",
       "12740        1\n",
       "12742        1\n",
       "13811        1\n",
       "13795        1\n",
       "13782        1\n",
       "12749        1\n",
       "13036        1\n",
       "Name: S000, dtype: int64"
      ]
     },
     "execution_count": 42,
     "metadata": {},
     "output_type": "execute_result"
    }
   ],
   "source": [
    "dest_by_zip = pd.merge(si_lodes,xwalk,left_on='w_geocode',right_on='tabblk2010').groupby('zcta')['S000'].sum()\n",
    "dest_by_zip.sort_values(ascending=False)"
   ]
  },
  {
   "cell_type": "code",
   "execution_count": 44,
   "metadata": {
    "collapsed": false
   },
   "outputs": [],
   "source": [
    "exboro_dest_by_zip = pd.merge(si_lodes.query('w_cty!=36085'),xwalk,left_on='w_geocode',right_on='tabblk2010').groupby('zcta')['S000'].sum()\n",
    "exboro_dest_by_zip.sort_values(ascending=False).to_csv('exboro_dest_by_zip.csv')"
   ]
  },
  {
   "cell_type": "code",
   "execution_count": 45,
   "metadata": {
    "collapsed": false
   },
   "outputs": [],
   "source": [
    "exboro_work_by_bg = pd.merge(si_lodes.query('w_cty!=36085'),xwalk,left_on='w_geocode',right_on='tabblk2010').groupby('bgrp')['S000'].sum()\n",
    "exboro_work_by_bg.sort_values(ascending=False).to_csv('work_by_bg.csv')"
   ]
  },
  {
   "cell_type": "code",
   "execution_count": 38,
   "metadata": {
    "collapsed": false
   },
   "outputs": [],
   "source": [
    "exboro_home_by_bg = pd.merge(si_lodes.query('w_cty!=36085'),xwalk,left_on='h_geocode',right_on='tabblk2010').groupby('bgrp')['S000'].sum()\n",
    "exboro_home_by_bg.sort_values(ascending=False).to_csv('home_by_bg.csv')"
   ]
  },
  {
   "cell_type": "code",
   "execution_count": 15,
   "metadata": {
    "collapsed": false
   },
   "outputs": [
    {
     "name": "stdout",
     "output_type": "stream",
     "text": [
      "6720 rows after addition of PUMA 3901\n",
      "12643 rows after addition of PUMA 3902\n",
      "20433 rows after addition of PUMA 3903\n"
     ]
    }
   ],
   "source": [
    "pums['PUMA'] = pums[['PUMA00','PUMA10']].max(axis=1)\n",
    "pums['POWPUMA'] = pums[['POWPUMA00','POWPUMA10']].max(axis=1)\n",
    "puma_list = [3901,3902,3903]\n",
    "si_pums = pd.DataFrame()\n",
    "for puma in puma_list:\n",
    "    si_pums = si_pums.append(pums.query('PUMA == @puma'))\n",
    "    print (si_pums.shape[0],'rows after addition of PUMA',str(puma))\n",
    "del pums"
   ]
  },
  {
   "cell_type": "code",
   "execution_count": 16,
   "metadata": {
    "collapsed": false
   },
   "outputs": [
    {
     "data": {
      "text/plain": [
       "42.259650789880034"
      ]
     },
     "execution_count": 16,
     "metadata": {},
     "output_type": "execute_result"
    }
   ],
   "source": [
    "si_pums[si_pums['JWMNP']!=np.nan]['JWMNP'].mean()"
   ]
  },
  {
   "cell_type": "code",
   "execution_count": 21,
   "metadata": {
    "collapsed": false
   },
   "outputs": [
    {
     "data": {
      "text/plain": [
       "JWTR\n",
       "1     2368\n",
       "2     1268\n",
       "3        7\n",
       "4      224\n",
       "5       53\n",
       "6      289\n",
       "7        2\n",
       "8        2\n",
       "9        6\n",
       "10      30\n",
       "12      25\n",
       "dtype: int64"
      ]
     },
     "execution_count": 21,
     "metadata": {},
     "output_type": "execute_result"
    }
   ],
   "source": [
    "si_pums.query('POWPUMA!=3900').groupby('JWTR').size()"
   ]
  },
  {
   "cell_type": "code",
   "execution_count": 7,
   "metadata": {
    "collapsed": false
   },
   "outputs": [
    {
     "data": {
      "text/plain": [
       "JWTR\n",
       "1     0.649208\n",
       "2     0.208232\n",
       "3     0.001041\n",
       "4     0.030986\n",
       "5     0.009481\n",
       "6     0.036536\n",
       "7     0.000809\n",
       "8     0.000462\n",
       "9     0.001503\n",
       "10    0.029830\n",
       "11    0.026593\n",
       "12    0.005319\n",
       "dtype: float64"
      ]
     },
     "execution_count": 7,
     "metadata": {},
     "output_type": "execute_result"
    }
   ],
   "source": [
    "si_pums.groupby('JWTR').size()/si_pums.groupby('JWTR').size().sum()"
   ]
  },
  {
   "cell_type": "code",
   "execution_count": null,
   "metadata": {
    "collapsed": true
   },
   "outputs": [],
   "source": []
  }
 ],
 "metadata": {
  "kernelspec": {
   "display_name": "Python 3",
   "language": "python",
   "name": "python3"
  },
  "language_info": {
   "codemirror_mode": {
    "name": "ipython",
    "version": 3
   },
   "file_extension": ".py",
   "mimetype": "text/x-python",
   "name": "python",
   "nbconvert_exporter": "python",
   "pygments_lexer": "ipython3",
   "version": "3.4.4"
  }
 },
 "nbformat": 4,
 "nbformat_minor": 0
}
