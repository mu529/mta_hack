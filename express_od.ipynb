{
 "cells": [
  {
   "cell_type": "code",
   "execution_count": 1,
   "metadata": {
    "collapsed": true
   },
   "outputs": [],
   "source": [
    "import pandas as pd\n",
    "import numpy as np"
   ]
  },
  {
   "cell_type": "code",
   "execution_count": 2,
   "metadata": {
    "collapsed": false
   },
   "outputs": [
    {
     "data": {
      "text/plain": [
       "Destination\n",
       "GREENWICH ST/BATTERY PL(40.704960;-74.014816)         1124.8\n",
       "TRINITY PL/RECTOR ST(40.708008;-74.012711)            1106.8\n",
       "MADISON AV/E 41 ST(40.752029;-73.979752)               705.6\n",
       "CHURCH ST/PARK PL(40.713425;-74.009010)                691.6\n",
       "MADISON AV/E 41 ST(40.752415;-73.979469)               572.0\n",
       "E 57 ST/3 AV(40.759876;-73.966827)                     500.4\n",
       "MADISON AV/E 53 ST(40.759605;-73.974197)               419.2\n",
       "MADISON AV/EAST 34 - 35 ST(40.748329;-73.982437)       407.2\n",
       "AV OF THE AMERICAS/W 34 ST(40.749882;-73.987534)       394.4\n",
       "AV OF THE AMERICAS/W 50 ST(40.759773;-73.980385)       360.8\n",
       "WEST ST/VESEY ST(40.713448;-74.013527)                 321.2\n",
       "W 34 ST/BROADWAY(40.749626;-73.987617)                 318.8\n",
       "E 23 ST/3 AV(40.739048;-73.983330)                     294.8\n",
       "AV OF THE AMERICAS/W 41 ST(40.754307;-73.984398)       290.0\n",
       "AV OF THE AMERICAS/W 29 ST(40.746536;-73.990013)       274.4\n",
       "AV OF THE AMERICAS/W 14 ST(40.737453;-73.996674)       265.6\n",
       "CENTRAL PARK S/6 AV(40.766006;-73.976807)              262.8\n",
       "CHURCH ST/THOMAS ST(40.716633;-74.006470)              242.0\n",
       "Grand Central - 42 St(40.751776;-73.976848)            241.6\n",
       "MADISON AV/EAST 47 - 48 ST(40.756508;-73.976463)       239.2\n",
       "CHURCH ST/LIBERTY ST(40.710014;-74.011360)             211.6\n",
       "CHURCH ST/FULTON ST(40.711735;-74.010300)              210.0\n",
       "Times Sq - 42 St(40.755290;-73.987495)                 207.6\n",
       "Borough Hall(40.693219;-73.989998)                     207.2\n",
       "MADISON AV/E 54 ST(40.760616;-73.973465)               203.6\n",
       "WEST ST/CARLISLE ST(40.709259;-74.014771)              195.2\n",
       "14 St - Union Sq(40.734673;-73.989951)                 194.0\n",
       "E 57 ST/MADISON AV(40.762012;-73.971954)               187.2\n",
       "E 34 ST/5 AV(40.748188;-73.984184)                     185.6\n",
       "CHURCH ST/CHAMBERS ST(40.715046;-74.007713)            180.0\n",
       "                                                       ...  \n",
       "AMSTERDAM AV/W 161 ST(40.835239;-73.940201)              0.4\n",
       "E 14 ST/1 AV(40.731087;-73.982170)                       0.4\n",
       "E 125 ST/PARK AV(40.805332;-73.939461)                   0.4\n",
       "AMSTERDAM AV/W 77 ST(40.782055;-73.978989)               0.4\n",
       "ALLEN ST/GRAND ST(40.717144;-73.991661)                  0.4\n",
       "E 125 ST/LEXINGTON AV(40.804138;-73.937103)              0.4\n",
       "AMSTERDAM AV/W 96 ST(40.794323;-73.970039)               0.4\n",
       "ARMSTRONG AV/EAST BRANDIS AV(40.559563;-74.162193)       0.4\n",
       "E 125 ST/3 AV(40.804825;-73.937927)                      0.4\n",
       "ASTORIA BL S/77 ST(40.765587;-73.891449)                 0.4\n",
       "ATLANTIC AV/90 ST(40.687183;-73.852715)                  0.4\n",
       "E 14 ST/3 AV(40.733009;-73.986732)                       0.4\n",
       "ALLEN ST/E HOUSTON ST(40.722527;-73.989029)              0.4\n",
       "QUEENS BL/71 AV(40.721150;-73.843898)                    0.4\n",
       "Union St(40.677316;-73.983110)                           0.4\n",
       "8 AV/W 17 ST(40.741901;-74.000809)                       0.4\n",
       "VANDALIA AV/VAN SICLEN AV(40.653461;-73.881920)          0.4\n",
       "80 St(40.679371;-73.858992)                              0.4\n",
       "81 ST/NORTHERN BL(40.755322;-73.886139)                  0.4\n",
       "81 ST/ROOSEVELT AV(40.747860;-73.884789)                 0.4\n",
       "QUEENS BL/WOODHAVEN BL(40.733295;-73.870857)             0.4\n",
       "UNIVERSITY AV/W 179 ST(40.854614;-73.911629)             0.4\n",
       "UNION TP/190 ST(40.729706;-73.778946)                    0.4\n",
       "UNION TPK/UTOPIA PKY(40.725759;-73.791415)               0.4\n",
       "88 St(40.679843;-73.851470)                              0.4\n",
       "QUEENS MIDTOWN EXP/48 ST(40.731514;-73.919373)           0.4\n",
       "REMSEN AV/AV B(40.649261;-73.916153)                     0.4\n",
       "E 14 ST/AV C(40.728428;-73.975830)                       0.4\n",
       "E 14 ST/AV A(40.730408;-73.980507)                       0.4\n",
       "MYRTLE AV/67 PL(40.701519;-73.885254)                    0.4\n",
       "Name: Riders, dtype: float64"
      ]
     },
     "execution_count": 2,
     "metadata": {},
     "output_type": "execute_result"
    }
   ],
   "source": [
    "express_od_oct14 = pd.read_excel('Oct 2014 and May 2015 SI Express OD Table.xlsx',sheetname='October 2014',header=2)\n",
    "express_od_oct14.query('Direction==\"N\"').groupby('Destination')['Riders'].sum().sort_values(ascending=False)"
   ]
  },
  {
   "cell_type": "code",
   "execution_count": 3,
   "metadata": {
    "collapsed": true
   },
   "outputs": [],
   "source": [
    "express_od_oct14['LegCount'] = express_od_oct14.apply(lambda x : x[5:].notnull().sum(), axis=1)"
   ]
  },
  {
   "cell_type": "code",
   "execution_count": 12,
   "metadata": {
    "collapsed": true
   },
   "outputs": [],
   "source": [
    "def parse_leg(leg):\n",
    "    sleg = leg.split(maxsplit=2)\n",
    "    if len(sleg)==3:\n",
    "        m, l, s = sleg[0], sleg[1], sleg[2]\n",
    "    else:\n",
    "        m = l = s = 'Not Valid'\n",
    "    return m, l, s\n",
    "\n",
    "def parse_last_leg(trip):\n",
    "    legix = 4 + trip.LegCount\n",
    "    leg = trip[legix]\n",
    "    sleg = leg.split(maxsplit=2)\n",
    "    if len(sleg)==3:\n",
    "        if sleg[0]=='Bus:' and sleg[1][:1]=='X':\n",
    "            m, l, s = 'XBus', sleg[1], sleg[2]\n",
    "        else:\n",
    "            m, l, s = sleg[0], sleg[1], sleg[2]\n",
    "    else:\n",
    "        m = l = s = 'Not Valid'\n",
    "    return m, l, s"
   ]
  },
  {
   "cell_type": "code",
   "execution_count": 13,
   "metadata": {
    "collapsed": true
   },
   "outputs": [],
   "source": [
    "express_od_oct14[['LL_Mode','LL_Line','LL_OD']] = express_od_oct14.apply(parse_last_leg,axis=1).apply(pd.Series)"
   ]
  },
  {
   "cell_type": "code",
   "execution_count": 14,
   "metadata": {
    "collapsed": false
   },
   "outputs": [
    {
     "data": {
      "text/plain": [
       "LL_Mode\n",
       "Bus:           529.2\n",
       "Not Valid       91.6\n",
       "Sub:          4263.6\n",
       "XBus         15407.2\n",
       "Name: Riders, dtype: float64"
      ]
     },
     "execution_count": 14,
     "metadata": {},
     "output_type": "execute_result"
    }
   ],
   "source": [
    "express_od_oct14.query('Direction==\"N\"').groupby(['LL_Mode'])['Riders'].sum()"
   ]
  },
  {
   "cell_type": "code",
   "execution_count": 15,
   "metadata": {
    "collapsed": false
   },
   "outputs": [
    {
     "data": {
      "text/plain": [
       "Destination\n",
       "Grand Central - 42 St(40.751776;-73.976848)           241.6\n",
       "Times Sq - 42 St(40.755290;-73.987495)                207.6\n",
       "Borough Hall(40.693219;-73.989998)                    207.2\n",
       "14 St - Union Sq(40.734673;-73.989951)                194.0\n",
       "59 St - Columbus Circle(40.768247;-73.981929)         151.6\n",
       "51 St(40.757107;-73.971920)                           137.2\n",
       "59 St(40.762526;-73.967967)                           134.8\n",
       "5 Av(40.753821;-73.981963)                            130.4\n",
       "68 St - Hunter College(40.768141;-73.963870)          110.4\n",
       "86 St(40.779492;-73.955589)                           105.6\n",
       "Jay St - MetroTech(40.692338;-73.987342)               91.6\n",
       "34 St - Penn Station(40.750373;-73.991057)             87.2\n",
       "47-50 Sts - Rockefeller Ctr(40.758663;-73.981329)      85.6\n",
       "77 St(40.773620;-73.959874)                            70.0\n",
       "57 St - 7 Av(40.764664;-73.980658)                     68.4\n",
       "23 St(40.739864;-73.986599)                            61.6\n",
       "50 St(40.761728;-73.983849)                            60.4\n",
       "49 St(40.759901;-73.984139)                            60.4\n",
       "96 St(40.785672;-73.951070)                            58.4\n",
       "23 St(40.741303;-73.989344)                            57.6\n",
       "Court Sq(40.747023;-73.945264)                         56.8\n",
       "Nevins St(40.688246;-73.980492)                        52.4\n",
       "34 St - Herald Sq(40.749719;-73.987823)                51.6\n",
       "14 St(40.740893;-74.001690)                            50.4\n",
       "57 St(40.763972;-73.977450)                            46.4\n",
       "34 St - Penn Station(40.752287;-73.993391)             42.4\n",
       "66 St - Lincoln Center(40.773440;-73.982209)           41.2\n",
       "72 St(40.778453;-73.981970)                            41.2\n",
       "Prince St(40.724329;-73.997702)                        40.0\n",
       "Houston St(40.728251;-74.005367)                       39.6\n",
       "                                                      ...  \n",
       "75 Av(40.718331;-73.837324)                             0.4\n",
       "Brook Av(40.807566;-73.919240)                          0.4\n",
       "Fulton St(40.687119;-73.975375)                         0.4\n",
       "Kings Hwy(40.603217;-73.972361)                         0.4\n",
       "Kingsbridge Rd(40.867760;-73.897174)                    0.4\n",
       "Crescent St(40.683194;-73.873785)                       0.4\n",
       "Rockaway Park - Beach 116 St(40.580903;-73.835592)      0.4\n",
       "Rockaway Av(40.678340;-73.911946)                       0.4\n",
       "Kingston - Throop Avs(40.679921;-73.940858)             0.4\n",
       "Coney Island - Stillwell Av(40.577422;-73.981233)       0.4\n",
       "Sterling St(40.662742;-73.950850)                       0.4\n",
       "36 St(40.655144;-74.003549)                             0.4\n",
       "225 St(40.888022;-73.860341)                            0.4\n",
       "Church Av(40.650843;-73.949575)                         0.4\n",
       "45 St(40.648939;-74.010006)                             0.4\n",
       "21 St(40.744065;-73.949724)                             0.4\n",
       "46 St(40.756312;-73.913333)                             0.4\n",
       "207 St(40.864621;-73.918822)                            0.4\n",
       "20 Av(40.617410;-73.985026)                             0.4\n",
       "20 Av(40.604556;-73.998168)                             0.4\n",
       "Parkside Av(40.655292;-73.961495)                       0.4\n",
       "Kings Hwy(40.603923;-73.980353)                         0.4\n",
       "Liberty Av(40.674542;-73.896548)                        0.4\n",
       "174-175 Sts(40.845900;-73.910136)                       0.4\n",
       "Fort Hamilton Pkwy(40.650782;-73.975776)                0.4\n",
       "Bushwick Av - Aberdeen St(40.682829;-73.905249)         0.4\n",
       "Sutter Av(40.669367;-73.901975)                         0.4\n",
       "Kingsbridge Rd(40.866978;-73.893509)                    0.4\n",
       "New Lots Av(40.658733;-73.899232)                       0.4\n",
       "Jackson Av(40.816490;-73.907807)                        0.4\n",
       "Name: Riders, dtype: float64"
      ]
     },
     "execution_count": 15,
     "metadata": {},
     "output_type": "execute_result"
    }
   ],
   "source": [
    "express_od_oct14.query('LL_Mode==\"Sub:\"').groupby('Destination')['Riders'].sum().sort_values(ascending=False)"
   ]
  },
  {
   "cell_type": "code",
   "execution_count": null,
   "metadata": {
    "collapsed": true
   },
   "outputs": [],
   "source": [
    "express_od_oct14.query('LL_Line==\"F\" or LL_Line==\"5\"').groupby('Destination')['Riders'].sum().sort_values(ascending=False)"
   ]
  },
  {
   "cell_type": "code",
   "execution_count": null,
   "metadata": {
    "collapsed": true
   },
   "outputs": [],
   "source": [
    "express_od_oct14['1st Leg'].apply(parse_leg).apply(pd.Series)"
   ]
  }
 ],
 "metadata": {
  "kernelspec": {
   "display_name": "Python 3",
   "language": "python",
   "name": "python3"
  },
  "language_info": {
   "codemirror_mode": {
    "name": "ipython",
    "version": 3
   },
   "file_extension": ".py",
   "mimetype": "text/x-python",
   "name": "python",
   "nbconvert_exporter": "python",
   "pygments_lexer": "ipython3",
   "version": "3.4.4"
  }
 },
 "nbformat": 4,
 "nbformat_minor": 0
}
